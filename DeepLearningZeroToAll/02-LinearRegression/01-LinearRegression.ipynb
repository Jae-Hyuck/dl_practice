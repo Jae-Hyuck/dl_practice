{
 "cells": [
  {
   "cell_type": "markdown",
   "metadata": {},
   "source": [
    "# Linear Regression"
   ]
  },
  {
   "cell_type": "code",
   "execution_count": 2,
   "metadata": {},
   "outputs": [],
   "source": [
    "import tensorflow as tf\n",
    "\n",
    "# data\n",
    "x_train = [1, 2, 3]\n",
    "y_train = [1, 2, 3]"
   ]
  },
  {
   "cell_type": "markdown",
   "metadata": {},
   "source": [
    "### Variable\n",
    "Variable은 tensor의 한 종류인데, TF에 의해 trainable하다.\n",
    "\n",
    "Unlike **tf.Tensor** objects, a **tf.Variable** exists outside the context of a single **session.run** call.\n",
    "\n",
    "Variable 생성 할 때 **tf.get_variable** 사용을 권장하지만 여기선 그냥 간단히...\n",
    "\n",
    "session에서 variable intialize 꼭 해줘야함."
   ]
  },
  {
   "cell_type": "code",
   "execution_count": 3,
   "metadata": {},
   "outputs": [
    {
     "name": "stdout",
     "output_type": "stream",
     "text": [
      "<tf.Variable 'weight:0' shape=(1,) dtype=float32_ref>\n",
      "<tf.Variable 'bias:0' shape=(1,) dtype=float32_ref>\n"
     ]
    }
   ],
   "source": [
    "W = tf.Variable(tf.random_normal([1]), name='weight')\n",
    "b = tf.Variable(tf.random_normal([1]), name='bias')\n",
    "print(W)\n",
    "print(b)"
   ]
  },
  {
   "cell_type": "code",
   "execution_count": 4,
   "metadata": {},
   "outputs": [
    {
     "name": "stdout",
     "output_type": "stream",
     "text": [
      "0 5.1204643 [1.6194055] [0.9667931]\n",
      "100 0.030000212 [0.7988393] [0.45730424]\n",
      "200 0.018538304 [0.84186393] [0.35948044]\n",
      "300 0.011455561 [0.87569064] [0.2825845]\n",
      "400 0.007078849 [0.90228146] [0.22213724]\n",
      "500 0.0043743006 [0.9231843] [0.17462018]\n",
      "600 0.002703054 [0.9396159] [0.1372674]\n",
      "700 0.0016703211 [0.95253265] [0.10790454]\n",
      "800 0.0010321563 [0.9626863] [0.08482286]\n",
      "900 0.00063780864 [0.970668] [0.06667849]\n",
      "1000 0.000394128 [0.9769423] [0.05241542]\n",
      "1100 0.0002435486 [0.98187464] [0.04120328]\n",
      "1200 0.0001504977 [0.9857518] [0.03238951]\n",
      "1300 9.2997616e-05 [0.9887996] [0.02546112]\n",
      "1400 5.746756e-05 [0.9911955] [0.0200148]\n",
      "1500 3.551038e-05 [0.9930788] [0.01573339]\n",
      "1600 2.1943402e-05 [0.99455935] [0.01236789]\n",
      "1700 1.3560035e-05 [0.9957231] [0.00972225]\n",
      "1800 8.37931e-06 [0.99663806] [0.00764261]\n",
      "1900 5.1777697e-06 [0.9973572] [0.00600775]\n",
      "2000 3.199362e-06 [0.99792254] [0.00472257]\n"
     ]
    }
   ],
   "source": [
    "# our hypothesis\n",
    "hypothesis = x_train * W + b\n",
    "\n",
    "# cost/loss function\n",
    "cost = tf.reduce_mean(tf.square(hypothesis - y_train))\n",
    "\n",
    "# Optimizer (GradientDescent)\n",
    "optimizer = tf.train.GradientDescentOptimizer(learning_rate=0.01)\n",
    "train = optimizer.minimize(cost)\n",
    "\n",
    "# sess init\n",
    "sess = tf.Session()\n",
    "sess.run(tf.global_variables_initializer())\n",
    "\n",
    "# Fit the line\n",
    "for step in range(2001):\n",
    "    sess.run(train)\n",
    "    if step % 100 == 0:\n",
    "        print(step, sess.run(cost), sess.run(W), sess.run(b))"
   ]
  },
  {
   "cell_type": "markdown",
   "metadata": {},
   "source": [
    "# Training and Testing with PlaceHolder"
   ]
  },
  {
   "cell_type": "code",
   "execution_count": 5,
   "metadata": {},
   "outputs": [],
   "source": [
    "%reset -f"
   ]
  },
  {
   "cell_type": "code",
   "execution_count": 6,
   "metadata": {},
   "outputs": [
    {
     "name": "stdout",
     "output_type": "stream",
     "text": [
      "0 21.2208 [0.42843273] [-1.7204303]\n",
      "100 0.5651933 [1.4880863] [-0.66214645]\n",
      "200 0.28709972 [1.347868] [-0.1559141]\n",
      "300 0.14583732 [1.2479318] [0.20488708]\n",
      "400 0.074080534 [1.1767055] [0.46203673]\n",
      "500 0.03763053 [1.1259414] [0.6453118]\n",
      "600 0.019115083 [1.0897607] [0.77593553]\n",
      "700 0.009709811 [1.063974] [0.8690334]\n",
      "800 0.0049322518 [1.0455954] [0.93538594]\n",
      "900 0.0025054165 [1.0324967] [0.9826766]\n",
      "1000 0.0012726719 [1.023161] [1.0163814]\n",
      "1100 0.00064647396 [1.0165073] [1.0404035]\n",
      "1200 0.00032838905 [1.011765] [1.0575244]\n",
      "1300 0.00016681539 [1.0083852] [1.0697266]\n",
      "1400 8.473683e-05 [1.0059763] [1.0784235]\n",
      "1500 4.3038846e-05 [1.0042592] [1.0846229]\n",
      "1600 2.1863318e-05 [1.0030357] [1.0890402]\n",
      "1700 1.1105784e-05 [1.0021635] [1.0921887]\n",
      "1800 5.641816e-06 [1.0015421] [1.0944326]\n",
      "1900 2.8655645e-06 [1.0010991] [1.0960321]\n",
      "2000 1.4558512e-06 [1.0007834] [1.0971717]\n"
     ]
    }
   ],
   "source": [
    "import tensorflow as tf\n",
    "\n",
    "X = tf.placeholder(tf.float32, shape=[None])\n",
    "Y = tf.placeholder(tf.float32, shape=[None])\n",
    "\n",
    "W = tf.Variable(tf.random_normal([1]), name='weight')\n",
    "b = tf.Variable(tf.random_normal([1]), name='bias')\n",
    "\n",
    "# our hypothesis\n",
    "hypothesis = X * W + b\n",
    "\n",
    "# cost/loss function\n",
    "cost = tf.reduce_mean(tf.square(hypothesis - Y))\n",
    "\n",
    "# Optimizer (GradientDescent)\n",
    "optimizer = tf.train.GradientDescentOptimizer(learning_rate=0.01)\n",
    "train = optimizer.minimize(cost)\n",
    "\n",
    "# sess init\n",
    "sess = tf.Session()\n",
    "sess.run(tf.global_variables_initializer())\n",
    "\n",
    "# Fit the line with new training data\n",
    "for step in range(2001):\n",
    "    cost_val, W_val, b_val, _ = sess.run([cost, W, b, train],\n",
    "                                        feed_dict={X: [1, 2, 3, 4, 5],\n",
    "                                                   Y: [2.1, 3.1, 4.1, 5.1, 6.1]})\n",
    "    if step % 100 == 0:\n",
    "        print(step, cost_val, W_val, b_val)"
   ]
  },
  {
   "cell_type": "code",
   "execution_count": 7,
   "metadata": {},
   "outputs": [
    {
     "name": "stdout",
     "output_type": "stream",
     "text": [
      "[2.097962  3.098743  4.0995235 5.1003046 6.1010857 7.1018662 8.102647 ]\n"
     ]
    }
   ],
   "source": [
    "# Testing our model\n",
    "print(sess.run(hypothesis, feed_dict={X: [1, 2, 3, 4, 5, 6, 7]}))"
   ]
  }
 ],
 "metadata": {
  "kernelspec": {
   "display_name": "Python 3",
   "language": "python",
   "name": "python3"
  },
  "language_info": {
   "codemirror_mode": {
    "name": "ipython",
    "version": 3
   },
   "file_extension": ".py",
   "mimetype": "text/x-python",
   "name": "python",
   "nbconvert_exporter": "python",
   "pygments_lexer": "ipython3",
   "version": "3.5.2"
  },
  "varInspector": {
   "cols": {
    "lenName": 16,
    "lenType": 16,
    "lenVar": 40
   },
   "kernels_config": {
    "python": {
     "delete_cmd_postfix": "",
     "delete_cmd_prefix": "del ",
     "library": "var_list.py",
     "varRefreshCmd": "print(var_dic_list())"
    },
    "r": {
     "delete_cmd_postfix": ") ",
     "delete_cmd_prefix": "rm(",
     "library": "var_list.r",
     "varRefreshCmd": "cat(var_dic_list()) "
    }
   },
   "position": {
    "height": "399px",
    "left": "726px",
    "right": "20px",
    "top": "120px",
    "width": "350px"
   },
   "types_to_exclude": [
    "module",
    "function",
    "builtin_function_or_method",
    "instance",
    "_Feature"
   ],
   "window_display": false
  }
 },
 "nbformat": 4,
 "nbformat_minor": 2
}
