{
 "cells": [
  {
   "cell_type": "markdown",
   "metadata": {},
   "source": [
    "# XOR-NN"
   ]
  },
  {
   "cell_type": "code",
   "execution_count": 2,
   "metadata": {},
   "outputs": [
    {
     "name": "stdout",
     "output_type": "stream",
     "text": [
      "0 0.7050815 [array([[ 0.6015155 , -0.18408124],\n",
      "       [-1.1661488 , -1.0708487 ]], dtype=float32), array([[0.82145816],\n",
      "       [0.06083134]], dtype=float32)]\n",
      "1000 0.67331034 [array([[ 1.107846  , -0.21305777],\n",
      "       [-1.7612529 , -1.1022872 ]], dtype=float32), array([[ 1.2804533 ],\n",
      "       [-0.28134474]], dtype=float32)]\n",
      "2000 0.5616649 [array([[ 2.736357  , -0.44010937],\n",
      "       [-3.4021528 , -1.6939279 ]], dtype=float32), array([[ 2.999194 ],\n",
      "       [-1.2159827]], dtype=float32)]\n",
      "3000 0.4511188 [array([[ 3.8880718 , -0.86169297],\n",
      "       [-4.8861904 , -3.0647652 ]], dtype=float32), array([[ 4.5584316],\n",
      "       [-2.6953244]], dtype=float32)]\n",
      "4000 0.39916712 [array([[ 4.3622723, -1.5029956],\n",
      "       [-5.795849 , -4.258542 ]], dtype=float32), array([[ 5.424738 ],\n",
      "       [-3.8285737]], dtype=float32)]\n",
      "5000 0.37790418 [array([[ 4.5768604, -1.9969957],\n",
      "       [-6.3675523, -5.0684805]], dtype=float32), array([[ 5.9109354],\n",
      "       [-4.5591364]], dtype=float32)]\n",
      "6000 0.36801875 [array([[ 4.7011986, -2.3372822],\n",
      "       [-6.7679586, -5.6342883]], dtype=float32), array([[ 6.2301946],\n",
      "       [-5.054956 ]], dtype=float32)]\n",
      "7000 0.36262017 [array([[ 4.78599  , -2.5836334],\n",
      "       [-7.073117 , -6.0572944]], dtype=float32), array([[ 6.465202],\n",
      "       [-5.418534]], dtype=float32)]\n",
      "8000 0.35929644 [array([[ 4.8495955, -2.772018 ],\n",
      "       [-7.3189716, -6.39104  ]], dtype=float32), array([[ 6.6507587],\n",
      "       [-5.7016296]], dtype=float32)]\n",
      "9000 0.35706937 [array([[ 4.900223 , -2.9223802],\n",
      "       [-7.524644 , -6.664922 ]], dtype=float32), array([[ 6.804047 ],\n",
      "       [-5.9317794]], dtype=float32)]\n",
      "10000 0.35548294 [array([[ 4.942152 , -3.0463471],\n",
      "       [-7.701376 , -6.8962975]], dtype=float32), array([[ 6.934684 ],\n",
      "       [-6.1248574]], dtype=float32)]\n",
      "\n",
      "Hypothesis:  [[0.01272805]\n",
      " [0.4936585 ]\n",
      " [0.99235606]\n",
      " [0.5011937 ]] \n",
      "Correct:  [[0.]\n",
      " [0.]\n",
      " [1.]\n",
      " [1.]] \n",
      "Accuracy:  0.5\n"
     ]
    }
   ],
   "source": [
    "import tensorflow as tf\n",
    "import numpy as np\n",
    "\n",
    "tf.set_random_seed(777)  # for reproducibility\n",
    "learning_rate = 0.1\n",
    "\n",
    "x_data = [[0, 0],\n",
    "          [0, 1],\n",
    "          [1, 0],\n",
    "          [1, 1]]\n",
    "y_data = [[0],\n",
    "          [1],\n",
    "          [1],\n",
    "          [0]]\n",
    "x_data = np.array(x_data, dtype=np.float32)\n",
    "y_data = np.array(y_data, dtype=np.float32)\n",
    "\n",
    "X = tf.placeholder(tf.float32, [None, 2])\n",
    "Y = tf.placeholder(tf.float32, [None, 1])\n",
    "\n",
    "# Layer1 (input 2, output 2)\n",
    "W1 = tf.Variable(tf.random_normal([2, 2]), name='weight1')\n",
    "b1 = tf.Variable(tf.random_normal([2]), name='bias1')\n",
    "layer1 = tf.sigmoid(tf.matmul(X, W1) + b1)\n",
    "\n",
    "# Layer2 (input 2, output 1)\n",
    "W2 = tf.Variable(tf.random_normal([2, 1]), name='weight2')\n",
    "b2 = tf.Variable(tf.random_normal([1]), name='bias2')\n",
    "hypothesis = tf.sigmoid(tf.matmul(layer1, W2) + b2)\n",
    "\n",
    "# cost/loss function\n",
    "cost = -tf.reduce_mean(Y * tf.log(hypothesis) + (1 - Y) *\n",
    "                       tf.log(1 - hypothesis))\n",
    "\n",
    "train = tf.train.GradientDescentOptimizer(learning_rate=learning_rate).minimize(cost)\n",
    "\n",
    "# Accuracy computation\n",
    "# True if hypothesis>0.5 else False\n",
    "predicted = tf.cast(hypothesis > 0.5, dtype=tf.float32)\n",
    "accuracy = tf.reduce_mean(tf.cast(tf.equal(predicted, Y), dtype=tf.float32))\n",
    "\n",
    "# Launch graph\n",
    "with tf.Session() as sess:\n",
    "    # Initialize TensorFlow variables\n",
    "    sess.run(tf.global_variables_initializer())\n",
    "\n",
    "    for step in range(10001):\n",
    "        sess.run(train, feed_dict={X: x_data, Y: y_data})\n",
    "        if step % 1000 == 0:\n",
    "            print(step, \n",
    "                  sess.run(cost, feed_dict={X: x_data, Y: y_data}), \n",
    "                  sess.run([W1, W2]))\n",
    "\n",
    "    # Accuracy report\n",
    "    h, c, a = sess.run([hypothesis, predicted, accuracy],\n",
    "                       feed_dict={X: x_data, Y: y_data})\n",
    "    print(\"\\nHypothesis: \", h, \"\\nCorrect: \", c, \"\\nAccuracy: \", a)"
   ]
  }
 ],
 "metadata": {
  "kernelspec": {
   "display_name": "Python 3",
   "language": "python",
   "name": "python3"
  },
  "language_info": {
   "codemirror_mode": {
    "name": "ipython",
    "version": 3
   },
   "file_extension": ".py",
   "mimetype": "text/x-python",
   "name": "python",
   "nbconvert_exporter": "python",
   "pygments_lexer": "ipython3",
   "version": "3.5.2"
  },
  "varInspector": {
   "cols": {
    "lenName": 16,
    "lenType": 16,
    "lenVar": 40
   },
   "kernels_config": {
    "python": {
     "delete_cmd_postfix": "",
     "delete_cmd_prefix": "del ",
     "library": "var_list.py",
     "varRefreshCmd": "print(var_dic_list())"
    },
    "r": {
     "delete_cmd_postfix": ") ",
     "delete_cmd_prefix": "rm(",
     "library": "var_list.r",
     "varRefreshCmd": "cat(var_dic_list()) "
    }
   },
   "types_to_exclude": [
    "module",
    "function",
    "builtin_function_or_method",
    "instance",
    "_Feature"
   ],
   "window_display": false
  }
 },
 "nbformat": 4,
 "nbformat_minor": 2
}
